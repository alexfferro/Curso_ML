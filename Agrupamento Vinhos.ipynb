{
  "nbformat": 4,
  "nbformat_minor": 0,
  "metadata": {
    "colab": {
      "name": "AgrupamentoVinhos.ipynb",
      "provenance": [],
      "authorship_tag": "ABX9TyMVB3VtVjy2RFzlu/FYcgj0",
      "include_colab_link": true
    },
    "kernelspec": {
      "name": "python3",
      "display_name": "Python 3"
    }
  },
  "cells": [
    {
      "cell_type": "markdown",
      "metadata": {
        "id": "view-in-github",
        "colab_type": "text"
      },
      "source": [
        "<a href=\"https://colab.research.google.com/github/alexfferro/Curso_ML/blob/master/Agrupamento%20Vinhos.ipynb\" target=\"_parent\"><img src=\"https://colab.research.google.com/assets/colab-badge.svg\" alt=\"Open In Colab\"/></a>"
      ]
    },
    {
      "cell_type": "markdown",
      "metadata": {
        "id": "c-KmH_9HCDZ3",
        "colab_type": "text"
      },
      "source": [
        "#Importando o Data-set e Funções do SKLearn"
      ]
    },
    {
      "cell_type": "code",
      "metadata": {
        "id": "opa2GSFs7uIz",
        "colab_type": "code",
        "colab": {
          "base_uri": "https://localhost:8080/",
          "height": 0
        },
        "outputId": "63dbbd6c-3ed6-44c4-8b92-e32f6c9c8458"
      },
      "source": [
        "from google.colab import drive\n",
        "drive.mount('/content/drive/')"
      ],
      "execution_count": 253,
      "outputs": [
        {
          "output_type": "stream",
          "text": [
            "Drive already mounted at /content/drive/; to attempt to forcibly remount, call drive.mount(\"/content/drive/\", force_remount=True).\n"
          ],
          "name": "stdout"
        }
      ]
    },
    {
      "cell_type": "code",
      "metadata": {
        "id": "vLlQGNU9_XMg",
        "colab_type": "code",
        "colab": {}
      },
      "source": [
        "import numpy as np\n",
        "import pandas as pd\n",
        "import matplotlib.pyplot as plt\n",
        "import seaborn as sns\n",
        "from sklearn.preprocessing import StandardScaler, LabelEncoder\n",
        "from sklearn.metrics import confusion_matrix, classification_report"
      ],
      "execution_count": 254,
      "outputs": []
    },
    {
      "cell_type": "code",
      "metadata": {
        "id": "aq8SVPLS_Y8e",
        "colab_type": "code",
        "colab": {}
      },
      "source": [
        "data = pd.read_csv('/content/drive/My Drive/Colab Notebooks/datasets/winequality-red.csv')"
      ],
      "execution_count": 255,
      "outputs": []
    },
    {
      "cell_type": "markdown",
      "metadata": {
        "id": "IB8B1u6i_b59",
        "colab_type": "text"
      },
      "source": [
        "#Análise Inicial\n",
        "\n",
        "Este é um conjunto de dados que está analisando a qualidade de vinhos vermelhos, sendo que de acordo com os detalhes do repositorio, caso o vinho possua qualidade de 6,5 ou superior é um vinho \"bom\" caso contrario é um vinho \"ruim\". Os valores variam entre 0 e 10. O Pode ser encontrado clicando aqui. \n",
        "\n",
        "\n",
        "[Red-Wine Quality](https://www.kaggle.com/uciml/red-wine-quality-cortez-et-al-2009)\n"
      ]
    },
    {
      "cell_type": "code",
      "metadata": {
        "id": "yu7vg6Xt_i50",
        "colab_type": "code",
        "colab": {
          "base_uri": "https://localhost:8080/",
          "height": 0
        },
        "outputId": "7f612c4e-2f6a-4895-a4b6-fe5c493e904d"
      },
      "source": [
        "data.rename(columns={'fixed acidity': 'fixed_acidity','volatile acidity':'volatile_acidity','citric acid':'citric_acid','residual sugar':'residual_sugar','free sulfur dioxide':'free_sulfur_dioxide','total sulfur dioxide':'total_sulfur_dioxide'}, inplace=True)\n",
        "data.columns"
      ],
      "execution_count": 256,
      "outputs": [
        {
          "output_type": "execute_result",
          "data": {
            "text/plain": [
              "Index(['fixed_acidity', 'volatile_acidity', 'citric_acid', 'residual_sugar',\n",
              "       'chlorides', 'free_sulfur_dioxide', 'total_sulfur_dioxide', 'density',\n",
              "       'pH', 'sulphates', 'alcohol', 'quality'],\n",
              "      dtype='object')"
            ]
          },
          "metadata": {
            "tags": []
          },
          "execution_count": 256
        }
      ]
    },
    {
      "cell_type": "code",
      "metadata": {
        "id": "oEZnuTUa_lFN",
        "colab_type": "code",
        "colab": {
          "base_uri": "https://localhost:8080/",
          "height": 0
        },
        "outputId": "da40e9b4-7da2-44f3-82b5-451a65291ec2"
      },
      "source": [
        "fig = plt.figure(figsize = (10,6))\n",
        "sns.barplot(x = 'quality', y = 'volatile_acidity', data = data)"
      ],
      "execution_count": 257,
      "outputs": [
        {
          "output_type": "execute_result",
          "data": {
            "text/plain": [
              "<matplotlib.axes._subplots.AxesSubplot at 0x7f52cdc84f28>"
            ]
          },
          "metadata": {
            "tags": []
          },
          "execution_count": 257
        },
        {
          "output_type": "display_data",
          "data": {
            "image/png": "[encoded data removed]",
            "text/plain": [
              "<Figure size 720x432 with 1 Axes>"
            ]
          },
          "metadata": {
            "tags": [],
            "needs_background": "light"
          }
        }
      ]
    },
    {
      "cell_type": "code",
      "metadata": {
        "id": "aoQmq9PA_0ng",
        "colab_type": "code",
        "colab": {
          "base_uri": "https://localhost:8080/",
          "height": 0
        },
        "outputId": "47dc4c79-afa1-4cba-c6fd-9db946dda303"
      },
      "source": [
        "fig = plt.figure(figsize = (10,6))\n",
        "sns.barplot(x = 'quality', y = 'citric_acid', data = data)"
      ],
      "execution_count": 258,
      "outputs": [
        {
          "output_type": "execute_result",
          "data": {
            "text/plain": [
              "<matplotlib.axes._subplots.AxesSubplot at 0x7f52cdca3f60>"
            ]
          },
          "metadata": {
            "tags": []
          },
          "execution_count": 258
        },
        {
          "output_type": "display_data",
          "data": {
            "image/png": "[encoded data removed]",
            "text/plain": [
              "<Figure size 720x432 with 1 Axes>"
            ]
          },
          "metadata": {
            "tags": [],
            "needs_background": "light"
          }
        }
      ]
    },
    {
      "cell_type": "code",
      "metadata": {
        "id": "003Pmk2e_2O2",
        "colab_type": "code",
        "colab": {
          "base_uri": "https://localhost:8080/",
          "height": 0
        },
        "outputId": "35b9e679-117e-471c-e547-7be932e20825"
      },
      "source": [
        "fig = plt.figure(figsize = (10,6))\n",
        "sns.barplot(x = 'quality', y = 'sulphates', data = data)"
      ],
      "execution_count": 259,
      "outputs": [
        {
          "output_type": "execute_result",
          "data": {
            "text/plain": [
              "<matplotlib.axes._subplots.AxesSubplot at 0x7f52cdbf2d30>"
            ]
          },
          "metadata": {
            "tags": []
          },
          "execution_count": 259
        },
        {
          "output_type": "display_data",
          "data": {
            "image/png": "[encoded data removed]",
            "text/plain": [
              "<Figure size 720x432 with 1 Axes>"
            ]
          },
          "metadata": {
            "tags": [],
            "needs_background": "light"
          }
        }
      ]
    },
    {
      "cell_type": "code",
      "metadata": {
        "id": "gMpofbbT_2sE",
        "colab_type": "code",
        "colab": {
          "base_uri": "https://localhost:8080/",
          "height": 0
        },
        "outputId": "ba5bec23-a102-4e47-ddc1-ba6aa7ea1598"
      },
      "source": [
        "fig = plt.figure(figsize = (10,6))\n",
        "sns.barplot(x = 'quality', y = 'alcohol', data = data)"
      ],
      "execution_count": 260,
      "outputs": [
        {
          "output_type": "execute_result",
          "data": {
            "text/plain": [
              "<matplotlib.axes._subplots.AxesSubplot at 0x7f52ce7b9cf8>"
            ]
          },
          "metadata": {
            "tags": []
          },
          "execution_count": 260
        },
        {
          "output_type": "display_data",
          "data": {
            "image/png": "[encoded data removed]",
            "text/plain": [
              "<Figure size 720x432 with 1 Axes>"
            ]
          },
          "metadata": {
            "tags": [],
            "needs_background": "light"
          }
        }
      ]
    },
    {
      "cell_type": "code",
      "metadata": {
        "id": "0uqLbpQ8_4Q8",
        "colab_type": "code",
        "colab": {
          "base_uri": "https://localhost:8080/",
          "height": 0
        },
        "outputId": "13b6a83c-3869-4b96-8b1e-ef532512287d"
      },
      "source": [
        "corr = data.corr()\n",
        "sns.heatmap(corr,vmin=-1, vmax=1, center=0,cmap=sns.diverging_palette(20, 220, n=200))"
      ],
      "execution_count": 261,
      "outputs": [
        {
          "output_type": "execute_result",
          "data": {
            "text/plain": [
              "<matplotlib.axes._subplots.AxesSubplot at 0x7f52cdac1ef0>"
            ]
          },
          "metadata": {
            "tags": []
          },
          "execution_count": 261
        },
        {
          "output_type": "display_data",
          "data": {
            "image/png": "[encoded data removed]",
            "text/plain": [
              "<Figure size 432x288 with 2 Axes>"
            ]
          },
          "metadata": {
            "tags": [],
            "needs_background": "light"
          }
        }
      ]
    },
    {
      "cell_type": "markdown",
      "metadata": {
        "id": "f22v6hPD_96u",
        "colab_type": "text"
      },
      "source": [
        "#Pré-Processamento de dados\n",
        "\n",
        "De acordo com o artigo do dataset, a qualidade dos vinhos podem ser divididas em algumas categorias.\n",
        "Podemos entender que um vinho que tenha qualidade menor que 6,5 é um vinho ruim, e caso seja maior que 6,5 um bom vinho, se ele for maior que 8 é um vinho excelente. \n",
        "\n",
        "Nosso conjunto de dados possuem uma quantidade de vinhos ruins muito maior que os vinhos bons, então iremos apenas assumir que temos um bom vinho se ele superar a qualidade de 6,5."
      ]
    },
    {
      "cell_type": "code",
      "metadata": {
        "id": "wkGWqM1MAEOe",
        "colab_type": "code",
        "colab": {}
      },
      "source": [
        "bins = (2, 6.5, 8)\n",
        "group_names = ['bad', 'good']\n",
        "data['quality'] = pd.cut(data['quality'], bins = bins, labels = group_names)"
      ],
      "execution_count": 262,
      "outputs": []
    },
    {
      "cell_type": "code",
      "metadata": {
        "id": "Z6QObvnlAHv1",
        "colab_type": "code",
        "colab": {}
      },
      "source": [
        "label_quality = LabelEncoder()"
      ],
      "execution_count": 263,
      "outputs": []
    },
    {
      "cell_type": "code",
      "metadata": {
        "id": "PuH0rKHEAJsF",
        "colab_type": "code",
        "colab": {}
      },
      "source": [
        "data['quality'] = label_quality.fit_transform(data['quality'])"
      ],
      "execution_count": 264,
      "outputs": []
    },
    {
      "cell_type": "code",
      "metadata": {
        "id": "iz30aqPpAMdW",
        "colab_type": "code",
        "colab": {}
      },
      "source": [
        "X = data.drop('quality', axis = 1)\n",
        "y = data['quality']"
      ],
      "execution_count": 265,
      "outputs": []
    },
    {
      "cell_type": "code",
      "metadata": {
        "id": "f9yduRBkBZrD",
        "colab_type": "code",
        "colab": {}
      },
      "source": [
        "data = (data - data.min())/(data.max()-data.min())"
      ],
      "execution_count": 266,
      "outputs": []
    },
    {
      "cell_type": "markdown",
      "metadata": {
        "id": "vwkBQUZgByhU",
        "colab_type": "text"
      },
      "source": [
        "#Modelando os dados"
      ]
    },
    {
      "cell_type": "code",
      "metadata": {
        "id": "m9AgAT9eARNW",
        "colab_type": "code",
        "colab": {}
      },
      "source": [
        "from sklearn.model_selection import train_test_split\n",
        "from sklearn.cluster import KMeans"
      ],
      "execution_count": 267,
      "outputs": []
    },
    {
      "cell_type": "code",
      "metadata": {
        "id": "zcRsfCmTBvwa",
        "colab_type": "code",
        "colab": {
          "base_uri": "https://localhost:8080/",
          "height": 68
        },
        "outputId": "bece8f69-fc5b-49ca-9df5-c24bbe7416d4"
      },
      "source": [
        "kmeans = KMeans(n_clusters=3, max_iter=1000)\n",
        "kmeans.fit(X)"
      ],
      "execution_count": 268,
      "outputs": [
        {
          "output_type": "execute_result",
          "data": {
            "text/plain": [
              "KMeans(algorithm='auto', copy_x=True, init='k-means++', max_iter=1000,\n",
              "       n_clusters=3, n_init=10, n_jobs=None, precompute_distances='auto',\n",
              "       random_state=None, tol=0.0001, verbose=0)"
            ]
          },
          "metadata": {
            "tags": []
          },
          "execution_count": 268
        }
      ]
    },
    {
      "cell_type": "code",
      "metadata": {
        "id": "HUjGYtB4CcO4",
        "colab_type": "code",
        "colab": {
          "base_uri": "https://localhost:8080/",
          "height": 34
        },
        "outputId": "f07f761f-df20-4b85-f679-9be9aea3fc30"
      },
      "source": [
        "kmeans_labels = kmeans.predict(X)\n",
        "kmeans_labels"
      ],
      "execution_count": 269,
      "outputs": [
        {
          "output_type": "execute_result",
          "data": {
            "text/plain": [
              "array([1, 2, 2, ..., 2, 2, 2], dtype=int32)"
            ]
          },
          "metadata": {
            "tags": []
          },
          "execution_count": 269
        }
      ]
    },
    {
      "cell_type": "markdown",
      "metadata": {
        "id": "Q5VWT_gmC4cU",
        "colab_type": "text"
      },
      "source": [
        "#Avaliando o Modelo"
      ]
    },
    {
      "cell_type": "code",
      "metadata": {
        "id": "L-5hyZdzC66u",
        "colab_type": "code",
        "colab": {}
      },
      "source": [
        "from sklearn.metrics import adjusted_rand_score"
      ],
      "execution_count": 270,
      "outputs": []
    },
    {
      "cell_type": "code",
      "metadata": {
        "id": "zCntb6O7C-wm",
        "colab_type": "code",
        "colab": {
          "base_uri": "https://localhost:8080/",
          "height": 34
        },
        "outputId": "ec4ea65e-caac-4d1f-8177-0fdde177e382"
      },
      "source": [
        "rand_score = adjusted_rand_score(y,kmeans_labels)\n",
        "rand_score"
      ],
      "execution_count": 271,
      "outputs": [
        {
          "output_type": "execute_result",
          "data": {
            "text/plain": [
              "-0.02902524191366794"
            ]
          },
          "metadata": {
            "tags": []
          },
          "execution_count": 271
        }
      ]
    },
    {
      "cell_type": "markdown",
      "metadata": {
        "id": "iHOIszuWDr-_",
        "colab_type": "text"
      },
      "source": [
        "### Rand_Score\n",
        "O resultado do rand_score para o modelo deu menor do que zero, significa que o modelo é **ruim**, mesmo alterando a quantidade de interações ou o número de clusters entre outros parametros, o resultado é sempre abaixo de zero."
      ]
    },
    {
      "cell_type": "code",
      "metadata": {
        "id": "SHRHhZPzEZJV",
        "colab_type": "code",
        "colab": {}
      },
      "source": [
        "from sklearn.metrics import adjusted_mutual_info_score"
      ],
      "execution_count": 272,
      "outputs": []
    },
    {
      "cell_type": "code",
      "metadata": {
        "id": "aVWuqzHcFHsL",
        "colab_type": "code",
        "colab": {
          "base_uri": "https://localhost:8080/",
          "height": 34
        },
        "outputId": "4419907b-7596-4f49-d69e-06fd3a4d080d"
      },
      "source": [
        "mutual_info = adjusted_mutual_info_score(y,kmeans_labels)\n",
        "mutual_info"
      ],
      "execution_count": 273,
      "outputs": [
        {
          "output_type": "execute_result",
          "data": {
            "text/plain": [
              "0.01424627864729433"
            ]
          },
          "metadata": {
            "tags": []
          },
          "execution_count": 273
        }
      ]
    },
    {
      "cell_type": "markdown",
      "metadata": {
        "id": "HeT69M3lHn_U",
        "colab_type": "text"
      },
      "source": [
        "### Mutual Info\n",
        "\n",
        "A métrica de informação Mutua se saiu melhor que o rand Info, porém o modelo ainda continua muito proximo de zero. Tornando o agrupamento de dados do data-set **ruim**."
      ]
    },
    {
      "cell_type": "code",
      "metadata": {
        "id": "TJrLOBPAIAY9",
        "colab_type": "code",
        "colab": {}
      },
      "source": [
        "from sklearn.metrics import fowlkes_mallows_score"
      ],
      "execution_count": 274,
      "outputs": []
    },
    {
      "cell_type": "code",
      "metadata": {
        "id": "vhYVOMSiILzE",
        "colab_type": "code",
        "colab": {
          "base_uri": "https://localhost:8080/",
          "height": 34
        },
        "outputId": "614af3df-1b44-4428-9366-8a4de500d468"
      },
      "source": [
        "fm = fowlkes_mallows_score(y,kmeans_labels)\n",
        "fm"
      ],
      "execution_count": 275,
      "outputs": [
        {
          "output_type": "execute_result",
          "data": {
            "text/plain": [
              "0.5411151485570209"
            ]
          },
          "metadata": {
            "tags": []
          },
          "execution_count": 275
        }
      ]
    },
    {
      "cell_type": "markdown",
      "metadata": {
        "id": "upGvTeKiIQzW",
        "colab_type": "text"
      },
      "source": [
        "### Fowlkes Mallows\n",
        "\n",
        "Foi a melhor métrica para avaliar o modelo de agrupamento, apesar do resultado estar longe do valor ideal. Contudo, se comparado com as duas métricas anteriores *Mutual Info e Rand Score* o valor é até relativamente **bom**. \n",
        "\n",
        "Visando que estas técnicas podem ser usadas quando conhecemos os rotulos das classes."
      ]
    },
    {
      "cell_type": "code",
      "metadata": {
        "id": "DeDwBac1Jz7N",
        "colab_type": "code",
        "colab": {}
      },
      "source": [
        "from sklearn.metrics import davies_bouldin_score"
      ],
      "execution_count": 276,
      "outputs": []
    },
    {
      "cell_type": "code",
      "metadata": {
        "id": "6RC8ha1DJ0uF",
        "colab_type": "code",
        "colab": {
          "base_uri": "https://localhost:8080/",
          "height": 34
        },
        "outputId": "0af3218a-ed6a-4b58-ac4a-4a83b25081f7"
      },
      "source": [
        "db = davies_bouldin_score(X,kmeans_labels)\n",
        "db"
      ],
      "execution_count": 277,
      "outputs": [
        {
          "output_type": "execute_result",
          "data": {
            "text/plain": [
              "0.6671736003519757"
            ]
          },
          "metadata": {
            "tags": []
          },
          "execution_count": 277
        }
      ]
    },
    {
      "cell_type": "code",
      "metadata": {
        "id": "vc6dGsrvKEik",
        "colab_type": "code",
        "colab": {}
      },
      "source": [
        "from sklearn.metrics import silhouette_score"
      ],
      "execution_count": 278,
      "outputs": []
    },
    {
      "cell_type": "code",
      "metadata": {
        "id": "oDG6GuYMKFcy",
        "colab_type": "code",
        "colab": {
          "base_uri": "https://localhost:8080/",
          "height": 34
        },
        "outputId": "f413ae3c-9fc5-484a-f334-8a3cdfc5c356"
      },
      "source": [
        "ss = silhouette_score(X,kmeans_labels,metric='euclidean')\n",
        "ss"
      ],
      "execution_count": 279,
      "outputs": [
        {
          "output_type": "execute_result",
          "data": {
            "text/plain": [
              "0.5209776312111326"
            ]
          },
          "metadata": {
            "tags": []
          },
          "execution_count": 279
        }
      ]
    },
    {
      "cell_type": "code",
      "metadata": {
        "id": "S2EesGZGKPqL",
        "colab_type": "code",
        "colab": {}
      },
      "source": [
        "from sklearn.metrics import calinski_harabasz_score"
      ],
      "execution_count": 280,
      "outputs": []
    },
    {
      "cell_type": "code",
      "metadata": {
        "id": "Vy1dDoCcKQhb",
        "colab_type": "code",
        "colab": {
          "base_uri": "https://localhost:8080/",
          "height": 34
        },
        "outputId": "b0edc3c8-9b1e-4154-dd09-05d1f34017b3"
      },
      "source": [
        "ch = calinski_harabasz_score(X,kmeans_labels)\n",
        "ch"
      ],
      "execution_count": 281,
      "outputs": [
        {
          "output_type": "execute_result",
          "data": {
            "text/plain": [
              "3066.1305717150976"
            ]
          },
          "metadata": {
            "tags": []
          },
          "execution_count": 281
        }
      ]
    },
    {
      "cell_type": "markdown",
      "metadata": {
        "id": "i0Fjkj8BKsLJ",
        "colab_type": "text"
      },
      "source": [
        "### Modelos sem rotulos\n",
        "\n",
        "Entre as métricas de Davies Bouldin, Coeficiente de Silhueta e Calinski, a métrica de Calinski foi a melhor e a de Coeficiente de Silhueta a pior, em termos de resultados.\n",
        "* Davies Bouldin — 0.667\n",
        "* Coeficiente de Silhueta — 0.520\n",
        "* Calinski Harabasz — 3066.130\n"
      ]
    },
    {
      "cell_type": "markdown",
      "metadata": {
        "id": "BDMrVkgVNki6",
        "colab_type": "text"
      },
      "source": [
        "# Agrupamento Hierarquico"
      ]
    },
    {
      "cell_type": "code",
      "metadata": {
        "id": "WvSy_oULNno6",
        "colab_type": "code",
        "colab": {}
      },
      "source": [
        "from sklearn.cluster import AgglomerativeClustering"
      ],
      "execution_count": 282,
      "outputs": []
    },
    {
      "cell_type": "code",
      "metadata": {
        "id": "d70bHNJzNqry",
        "colab_type": "code",
        "colab": {}
      },
      "source": [
        "hierarquico = AgglomerativeClustering(n_clusters=4)\n",
        "labels_hierarquico = hierarquico.fit(X).labels_"
      ],
      "execution_count": 283,
      "outputs": []
    },
    {
      "cell_type": "markdown",
      "metadata": {
        "id": "o5z11ZCtOQWT",
        "colab_type": "text"
      },
      "source": [
        "## Avaliando o Modelo"
      ]
    },
    {
      "cell_type": "code",
      "metadata": {
        "id": "b8uuCxTsOO8h",
        "colab_type": "code",
        "colab": {
          "base_uri": "https://localhost:8080/",
          "height": 34
        },
        "outputId": "7ae5ba9d-720d-4073-ebe6-0d777f60d071"
      },
      "source": [
        "rand_score = adjusted_rand_score(y,labels_hierarquico)\n",
        "rand_score"
      ],
      "execution_count": 285,
      "outputs": [
        {
          "output_type": "execute_result",
          "data": {
            "text/plain": [
              "-0.023101897258723324"
            ]
          },
          "metadata": {
            "tags": []
          },
          "execution_count": 285
        }
      ]
    },
    {
      "cell_type": "code",
      "metadata": {
        "id": "DzZSpSInOW85",
        "colab_type": "code",
        "colab": {
          "base_uri": "https://localhost:8080/",
          "height": 34
        },
        "outputId": "76681916-3fb7-4de5-ef29-35f0f2272820"
      },
      "source": [
        "mutual_info = adjusted_mutual_info_score(y,labels_hierarquico)\n",
        "mutual_info"
      ],
      "execution_count": 286,
      "outputs": [
        {
          "output_type": "execute_result",
          "data": {
            "text/plain": [
              "0.01560463374823795"
            ]
          },
          "metadata": {
            "tags": []
          },
          "execution_count": 286
        }
      ]
    },
    {
      "cell_type": "code",
      "metadata": {
        "id": "vcq457DJOfIR",
        "colab_type": "code",
        "colab": {
          "base_uri": "https://localhost:8080/",
          "height": 34
        },
        "outputId": "e559d83a-daad-4b23-da3f-c86172751b87"
      },
      "source": [
        "fm = fowlkes_mallows_score(y,labels_hierarquico)\n",
        "fm"
      ],
      "execution_count": 287,
      "outputs": [
        {
          "output_type": "execute_result",
          "data": {
            "text/plain": [
              "0.4607273903124815"
            ]
          },
          "metadata": {
            "tags": []
          },
          "execution_count": 287
        }
      ]
    },
    {
      "cell_type": "markdown",
      "metadata": {
        "id": "eJY5F441Omph",
        "colab_type": "text"
      },
      "source": [
        "### Interpretando os resultados rotulados.\n",
        "\n",
        "Se compararmos com o Kmeans, o agrupamento hierarquico foi ligeiramente pior, os resultados estão bem proximos entre eles. dito isto, tanto no Kmeans como no Hierarquico a métrica de Fowlkes Mallows foi melhor."
      ]
    },
    {
      "cell_type": "code",
      "metadata": {
        "id": "NnbapQLOO-nh",
        "colab_type": "code",
        "colab": {
          "base_uri": "https://localhost:8080/",
          "height": 34
        },
        "outputId": "8e52fdfa-417c-47a7-8641-5318e773b9c4"
      },
      "source": [
        "db = davies_bouldin_score(X,labels_hierarquico)\n",
        "db"
      ],
      "execution_count": 288,
      "outputs": [
        {
          "output_type": "execute_result",
          "data": {
            "text/plain": [
              "0.7842462626712813"
            ]
          },
          "metadata": {
            "tags": []
          },
          "execution_count": 288
        }
      ]
    },
    {
      "cell_type": "code",
      "metadata": {
        "id": "oHh5LWOHPCDx",
        "colab_type": "code",
        "colab": {
          "base_uri": "https://localhost:8080/",
          "height": 34
        },
        "outputId": "f81e49b9-36f7-4f20-9a15-dae517593468"
      },
      "source": [
        "ss = silhouette_score(X,labels_hierarquico,metric='euclidean')\n",
        "ss"
      ],
      "execution_count": 289,
      "outputs": [
        {
          "output_type": "execute_result",
          "data": {
            "text/plain": [
              "0.41602216937724584"
            ]
          },
          "metadata": {
            "tags": []
          },
          "execution_count": 289
        }
      ]
    },
    {
      "cell_type": "code",
      "metadata": {
        "id": "4ivRKBMHPDys",
        "colab_type": "code",
        "colab": {
          "base_uri": "https://localhost:8080/",
          "height": 34
        },
        "outputId": "fde8d314-2d70-4daf-c6e2-ce553fae602e"
      },
      "source": [
        "ch = calinski_harabasz_score(X,labels_hierarquico)\n",
        "ch"
      ],
      "execution_count": 290,
      "outputs": [
        {
          "output_type": "execute_result",
          "data": {
            "text/plain": [
              "2586.426363942889"
            ]
          },
          "metadata": {
            "tags": []
          },
          "execution_count": 290
        }
      ]
    },
    {
      "cell_type": "markdown",
      "metadata": {
        "id": "pSH_hXt3PGIQ",
        "colab_type": "text"
      },
      "source": [
        "### Interpretando os não rotulados\n",
        "\n",
        "Existe uma pequena diferença entre os valores entre o Kmeans e o Hierarquico entre os não rotulados, a metrica de Davies Bouldin é um pouco melhor no Hierarquico do que no Kmeans, e o Coeficiente de Silhueta é pior no Hierarquico do que no Kmeans. Porém, em ambos a métrica de Calinski é a melhor.\n",
        "\n",
        "* Davies Bouldin — 0.784\n",
        "* Coeficiente de Silhueta — 0.416\n",
        "* Calinski Harabasz — 2586.426"
      ]
    },
    {
      "cell_type": "markdown",
      "metadata": {
        "id": "SR331vK-P5FF",
        "colab_type": "text"
      },
      "source": [
        "# Considerações Finais\n",
        "\n",
        "O agrupamento de dados feito pelo Kmeans foi melhor que o agrupamento feito pelo Hierarquico, Mas os resultados não foram os ideais. Para um conjunto de dados rotulado como este, a métrica de Fowlkes Mallows deu o melhor resultado no Kmeans sendo o valor de 0.541. Onde quanto mais proximo de 1, melhor é o resultado. \n",
        "\n",
        "Quando utilizamos o modelo sem os rotulos, a métrica que se saiu mais promissora foi a de Calinski Harabasz, a escala do resultado foi muito maior que as demais. O Conjunto de dados possui uma discrepância muito grande entre as classes de vinhos \"Bons\" e \"Ruins\" e isso pode dificultar o algoritmo em fazer um **bom** agrupamento. Então os resultados até que foram promissores."
      ]
    }
  ]
}